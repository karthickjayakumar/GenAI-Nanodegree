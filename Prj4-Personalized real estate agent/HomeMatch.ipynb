{
 "cells": [
  {
   "cell_type": "markdown",
   "id": "a108af04",
   "metadata": {},
   "source": [
    "This is a starter notebook for the project, you'll have to import the libraries you'll need, you can find a list of the ones available in this workspace in the requirements.txt file in this workspace. "
   ]
  },
  {
   "cell_type": "code",
   "execution_count": null,
   "id": "5a090610",
   "metadata": {},
   "outputs": [],
   "source": [
    "%pip install \"pydantic<2.0\"\n"
   ]
  },
  {
   "cell_type": "code",
   "execution_count": null,
   "id": "b3509419",
   "metadata": {},
   "outputs": [],
   "source": [
    "%pip install \"fastapi<0.100\"\n"
   ]
  },
  {
   "cell_type": "code",
   "execution_count": 2,
   "id": "c9ee5751",
   "metadata": {},
   "outputs": [],
   "source": [
    "import os\n",
    "import pandas as pd\n",
    "import shutil\n",
    "from dataclasses import dataclass\n",
    "from typing import List\n",
    "from pydantic import BaseModel, Field, NonNegativeInt  # Updated to import directly from pydantic\n",
    "from langchain.embeddings import OpenAIEmbeddings\n",
    "from langchain.llms import OpenAI\n",
    "from langchain.vectorstores.chroma import Chroma\n",
    "from langchain.schema import Document\n",
    "from langchain.text_splitter import RecursiveCharacterTextSplitter\n",
    "from langchain.prompts import PromptTemplate\n",
    "from langchain.output_parsers import PydanticOutputParser\n",
    "from fastapi.encoders import jsonable_encoder\n"
   ]
  },
  {
   "cell_type": "code",
   "execution_count": 11,
   "id": "e96e9362",
   "metadata": {},
   "outputs": [],
   "source": [
    "import os\n",
    "OPENAI_API_KEY = ''\n",
    "os.environ['OPENAI_API_KEY'] = OPENAI_API_KEY\n",
    "os.environ[\"OPENAI_API_KEY\"] = \"\"\n",
    "os.environ[\"OPENAI_API_BASE\"] = \"https://openai.vocareum.com/v1\"\n",
    "\n",
    "from langchain.llms import OpenAI"
   ]
  },
  {
   "cell_type": "code",
   "execution_count": 12,
   "id": "674e8de7",
   "metadata": {},
   "outputs": [],
   "source": [
    "#Define the Real Estate Listing Schema\n",
    "class RealEstateListing(BaseModel):\n",
    "    neighborhood: str = Field(description=\"The neighborhood where the property is located\")\n",
    "    price: NonNegativeInt = Field(description=\"The price of the property in USD\")\n",
    "    bedrooms: NonNegativeInt = Field(description=\"The number of bedrooms in the property\")\n",
    "    bathrooms: NonNegativeInt = Field(description=\"The number of bathrooms in the property\")\n",
    "    house_size: NonNegativeInt = Field(description=\"The size of the house in square feet\")\n",
    "    description: str = Field(description=\"A description of the property\")\n",
    "    neighborhood_description: str = Field(description=\"A description of the neighborhood.\")  \n",
    "\n",
    "class ListingCollection(BaseModel):\n",
    "    listings: List[RealEstateListing] = Field(description=\"A list of real estate listings\")\n"
   ]
  },
  {
   "cell_type": "code",
   "execution_count": 13,
   "id": "564db095",
   "metadata": {},
   "outputs": [
    {
     "name": "stderr",
     "output_type": "stream",
     "text": [
      "/home/student/.local/lib/python3.10/site-packages/langchain/llms/openai.py:202: UserWarning: You are trying to use a chat model. This way of initializing it is no longer supported. Instead, please use: `from langchain.chat_models import ChatOpenAI`\n",
      "  warnings.warn(\n",
      "/home/student/.local/lib/python3.10/site-packages/langchain/llms/openai.py:790: UserWarning: You are trying to use a chat model. This way of initializing it is no longer supported. Instead, please use: `from langchain.chat_models import ChatOpenAI`\n",
      "  warnings.warn(\n"
     ]
    },
    {
     "data": {
      "text/html": [
       "<div>\n",
       "<style scoped>\n",
       "    .dataframe tbody tr th:only-of-type {\n",
       "        vertical-align: middle;\n",
       "    }\n",
       "\n",
       "    .dataframe tbody tr th {\n",
       "        vertical-align: top;\n",
       "    }\n",
       "\n",
       "    .dataframe thead th {\n",
       "        text-align: right;\n",
       "    }\n",
       "</style>\n",
       "<table border=\"1\" class=\"dataframe\">\n",
       "  <thead>\n",
       "    <tr style=\"text-align: right;\">\n",
       "      <th></th>\n",
       "      <th>neighborhood</th>\n",
       "      <th>price</th>\n",
       "      <th>bedrooms</th>\n",
       "      <th>bathrooms</th>\n",
       "      <th>house_size</th>\n",
       "      <th>description</th>\n",
       "      <th>neighborhood_description</th>\n",
       "    </tr>\n",
       "  </thead>\n",
       "  <tbody>\n",
       "    <tr>\n",
       "      <th>0</th>\n",
       "      <td>Green Oaks</td>\n",
       "      <td>800000</td>\n",
       "      <td>3</td>\n",
       "      <td>2</td>\n",
       "      <td>2000</td>\n",
       "      <td>Welcome to this eco-friendly oasis nestled in ...</td>\n",
       "      <td>Green Oaks is a close-knit, environmentally-co...</td>\n",
       "    </tr>\n",
       "    <tr>\n",
       "      <th>1</th>\n",
       "      <td>Downtown Loft District</td>\n",
       "      <td>600000</td>\n",
       "      <td>2</td>\n",
       "      <td>1</td>\n",
       "      <td>1500</td>\n",
       "      <td>Experience urban living at its finest in this ...</td>\n",
       "      <td>The Downtown Loft District is a bustling neigh...</td>\n",
       "    </tr>\n",
       "    <tr>\n",
       "      <th>2</th>\n",
       "      <td>Suburban Meadows</td>\n",
       "      <td>700000</td>\n",
       "      <td>4</td>\n",
       "      <td>3</td>\n",
       "      <td>2500</td>\n",
       "      <td>Escape the hustle and bustle of the city in th...</td>\n",
       "      <td>Suburban Meadows is a family-friendly neighbor...</td>\n",
       "    </tr>\n",
       "    <tr>\n",
       "      <th>3</th>\n",
       "      <td>Waterfront Estates</td>\n",
       "      <td>1200000</td>\n",
       "      <td>5</td>\n",
       "      <td>4</td>\n",
       "      <td>4000</td>\n",
       "      <td>Live the life of luxury in this stunning 5-bed...</td>\n",
       "      <td>Waterfront Estates is an upscale waterfront co...</td>\n",
       "    </tr>\n",
       "    <tr>\n",
       "      <th>4</th>\n",
       "      <td>Mountain View Heights</td>\n",
       "      <td>900000</td>\n",
       "      <td>4</td>\n",
       "      <td>3</td>\n",
       "      <td>3000</td>\n",
       "      <td>Escape to the mountains in this spacious 4-bed...</td>\n",
       "      <td>Mountain View Heights is a picturesque neighbo...</td>\n",
       "    </tr>\n",
       "  </tbody>\n",
       "</table>\n",
       "</div>"
      ],
      "text/plain": [
       "             neighborhood    price  bedrooms  bathrooms  house_size  \\\n",
       "0              Green Oaks   800000         3          2        2000   \n",
       "1  Downtown Loft District   600000         2          1        1500   \n",
       "2        Suburban Meadows   700000         4          3        2500   \n",
       "3      Waterfront Estates  1200000         5          4        4000   \n",
       "4   Mountain View Heights   900000         4          3        3000   \n",
       "\n",
       "                                         description  \\\n",
       "0  Welcome to this eco-friendly oasis nestled in ...   \n",
       "1  Experience urban living at its finest in this ...   \n",
       "2  Escape the hustle and bustle of the city in th...   \n",
       "3  Live the life of luxury in this stunning 5-bed...   \n",
       "4  Escape to the mountains in this spacious 4-bed...   \n",
       "\n",
       "                            neighborhood_description  \n",
       "0  Green Oaks is a close-knit, environmentally-co...  \n",
       "1  The Downtown Loft District is a bustling neigh...  \n",
       "2  Suburban Meadows is a family-friendly neighbor...  \n",
       "3  Waterfront Estates is an upscale waterfront co...  \n",
       "4  Mountain View Heights is a picturesque neighbo...  "
      ]
     },
     "execution_count": 13,
     "metadata": {},
     "output_type": "execute_result"
    }
   ],
   "source": [
    "#Generate Real Estate Listings Using OpenAI\n",
    "llm = OpenAI(model_name=\"gpt-3.5-turbo\", temperature=0, api_key=OPENAI_API_KEY)\n",
    "\n",
    "instruction = \"Generate a JSON object with at least 10 real estate listings.\"\n",
    "sample_listing = \"\"\"\n",
    "Neighborhood: Green Oaks\n",
    "Price: $800,000\n",
    "Bedrooms: 3\n",
    "Bathrooms: 2\n",
    "House Size: 2,000 sqft\n",
    "\n",
    "Description: Welcome to this eco-friendly oasis nestled in the heart of Green Oaks. This charming 3-bedroom, 2-bathroom home boasts energy-efficient features such as solar panels and a well-insulated structure. Natural light floods the living spaces, highlighting the beautiful hardwood floors and eco-conscious finishes. The open-concept kitchen and dining area lead to a spacious backyard with a vegetable garden, perfect for the eco-conscious family. Embrace sustainable living without compromising on style in this Green Oaks gem.\n",
    "\n",
    "Neighborhood Description: Green Oaks is a close-knit, environmentally-conscious community with access to organic grocery stores, community gardens, and bike paths. Take a stroll through the nearby Green Oaks Park or grab a cup of coffee at the cozy Green Bean Cafe. With easy access to public transportation and bike lanes, commuting is a breeze.\n",
    "\"\"\"\n",
    "\n",
    "# Define the parser and prompt\n",
    "parser = PydanticOutputParser(pydantic_object=ListingCollection)\n",
    "prompt = PromptTemplate(\n",
    "    template=\"{instruction}\\n{sample}\\n{format_instructions}\\n\",\n",
    "    input_variables=[\"instruction\", \"sample\"],\n",
    "    partial_variables={\"format_instructions\": parser.get_format_instructions},\n",
    ")\n",
    "\n",
    "query = prompt.format(\n",
    "    instruction=instruction,\n",
    "    sample=sample_listing,\n",
    ")\n",
    "\n",
    "# Get response from the LLM\n",
    "response = llm(query)\n",
    "result = parser.parse(response)\n",
    "\n",
    "# Create a dataframe from the generated listings\n",
    "df = pd.DataFrame(jsonable_encoder(result.listings))\n",
    "df.head()\n"
   ]
  },
  {
   "cell_type": "code",
   "execution_count": 15,
   "id": "92794d71",
   "metadata": {},
   "outputs": [],
   "source": [
    "#Save Listings to CSV\n",
    "df.to_csv('real_estate_listings.csv', index_label='id')\n"
   ]
  },
  {
   "cell_type": "code",
   "execution_count": 16,
   "id": "5587a206",
   "metadata": {},
   "outputs": [
    {
     "name": "stdout",
     "output_type": "stream",
     "text": [
      "Split 10 documents into 21 chunks.\n",
      "Saved 21 chunks to chroma.\n"
     ]
    }
   ],
   "source": [
    "#Set up ChromaDB and store vector embeddings for the real estate listings.\n",
    "\n",
    "CHROMA_PATH = \"chroma\"\n",
    "CSV_PATH = \"real_estate_listings.csv\" \n",
    "\n",
    "embedding_function = OpenAIEmbeddings()\n",
    "\n",
    "df = pd.read_csv(CSV_PATH)\n",
    "documents = [Document(page_content=row['description'], metadata={'id': str(index)}) for index, row in df.iterrows()]\n",
    "\n",
    "# Split the text into suitable chunks\n",
    "text_splitter = RecursiveCharacterTextSplitter(\n",
    "    chunk_size=300,\n",
    "    chunk_overlap=100,\n",
    "    length_function=len,\n",
    "    add_start_index=True,\n",
    ")\n",
    "chunks = text_splitter.split_documents(documents)\n",
    "print(f\"Split {len(documents)} documents into {len(chunks)} chunks.\")\n",
    "\n",
    "# Save chunks to Chroma\n",
    "if os.path.exists(CHROMA_PATH):\n",
    "    shutil.rmtree(CHROMA_PATH)\n",
    "\n",
    "db = Chroma.from_documents(chunks, OpenAIEmbeddings(), persist_directory=CHROMA_PATH)\n",
    "db.persist()\n",
    "print(f\"Saved {len(chunks)} chunks to {CHROMA_PATH}.\")\n"
   ]
  },
  {
   "cell_type": "code",
   "execution_count": 17,
   "id": "6554fd4c",
   "metadata": {},
   "outputs": [],
   "source": [
    "#Collect buyer preferences and convert them into a search query.\n",
    "# Example buyer preferences\n",
    "preferences = {\n",
    "    \"bedrooms\": 3,\n",
    "    \"bathrooms\": 2,\n",
    "    \"location\": \"Suburban area\",\n",
    "    \"budget\": \"Below $900,000\",\n",
    "}\n",
    "query_text = \"Comfortable 3-bedroom house in a suburban area below $900,000.\"\n"
   ]
  },
  {
   "cell_type": "code",
   "execution_count": 18,
   "id": "6c286a33",
   "metadata": {},
   "outputs": [
    {
     "name": "stdout",
     "output_type": "stream",
     "text": [
      "Listing ID: 2, Relevance Score: 0.788932700015128\n",
      "Escape the hustle and bustle of the city in this spacious 4-bedroom, 3-bathroom home located in the peaceful Suburban Meadows neighborhood. This well-maintained property features a large backyard, perfect for outdoor gatherings and gardening. The open kitchen and living area provide ample space for\n",
      "-----\n",
      "Listing ID: 2, Relevance Score: 0.7680523782604093\n",
      "for outdoor gatherings and gardening. The open kitchen and living area provide ample space for family gatherings, while the cozy fireplace is perfect for chilly evenings. Enjoy the tranquility of suburban living without sacrificing convenience.\n",
      "-----\n",
      "Listing ID: 5, Relevance Score: 0.7481586404734428\n",
      "Step back in time in this charming 3-bedroom, 2-bathroom home located in the historic Old Town neighborhood. This well-preserved property features original hardwood floors, vintage fixtures, and a cozy front porch. The updated kitchen and bathrooms offer modern convenience while maintaining the\n",
      "-----\n"
     ]
    }
   ],
   "source": [
    "#Search for listings that match the buyer preferences\n",
    "def perform_search(db, query_text):\n",
    "    results = db.similarity_search_with_relevance_scores(query_text, k=3)\n",
    "    if len(results) == 0 or results[0][1] < 0.7:\n",
    "        print(f\"Unable to find matching results.\")\n",
    "    else:\n",
    "        for result in results:\n",
    "            print(f\"Listing ID: {result[0].metadata['id']}, Relevance Score: {result[1]}\")\n",
    "            print(result[0].page_content)\n",
    "            print(\"-----\")\n",
    "\n",
    "perform_search(db, query_text)\n"
   ]
  },
  {
   "cell_type": "code",
   "execution_count": 19,
   "id": "d68acf64",
   "metadata": {},
   "outputs": [
    {
     "name": "stderr",
     "output_type": "stream",
     "text": [
      "/home/student/.local/lib/python3.10/site-packages/langchain/llms/openai.py:202: UserWarning: You are trying to use a chat model. This way of initializing it is no longer supported. Instead, please use: `from langchain.chat_models import ChatOpenAI`\n",
      "  warnings.warn(\n",
      "/home/student/.local/lib/python3.10/site-packages/langchain/llms/openai.py:790: UserWarning: You are trying to use a chat model. This way of initializing it is no longer supported. Instead, please use: `from langchain.chat_models import ChatOpenAI`\n",
      "  warnings.warn(\n"
     ]
    },
    {
     "name": "stdout",
     "output_type": "stream",
     "text": [
      "Personalized Response:\n",
      "Welcome to your dream home in the serene Suburban Meadows neighborhood! This comfortable 3-bedroom house is the perfect oasis from the hustle and bustle of city life, all for under $900,000. With a spacious backyard for outdoor gatherings and gardening, you can enjoy the tranquility of suburban living while still being conveniently located. The open kitchen and living area provide ample space for family gatherings, and the cozy fireplace is ideal for chilly evenings. Don't miss out on this well-maintained property that offers the perfect blend of modern convenience and suburban charm.\n"
     ]
    }
   ],
   "source": [
    "#Use the LLM to augment and personalize the property descriptions based on buyer preferences.\n",
    "\n",
    "AUGMENT_PROMPT_TEMPLATE = \"\"\"\n",
    "Based on the following context:\n",
    "\n",
    "{context}\n",
    "\n",
    "---\n",
    "\n",
    "Craft a response that not only answers the question \"{question}\", but also ensures that your explanation is distinct, captivating, and customized to align with the specified preferences. This involves subtly emphasizing aspects of the property that align with what the buyer is looking for.\n",
    "\"\"\"\n",
    "\n",
    "def predict_response(db, query_text, PROMPT_TEMPLATE):\n",
    "    results = db.similarity_search_with_relevance_scores(query_text, k=3)\n",
    "    if len(results) == 0 or results[0][1] < 0.7:\n",
    "        print(f\"Unable to find matching results.\")\n",
    "    else:\n",
    "        context_text = \"\\n\\n---\\n\\n\".join([doc.page_content for doc, _ in results])\n",
    "        prompt_template = PromptTemplate(template=PROMPT_TEMPLATE, input_variables=[\"context\", \"question\"])\n",
    "        prompt = prompt_template.format(context=context_text, question=query_text)\n",
    "\n",
    "        # Get the augmented response\n",
    "        model = OpenAI(model_name=\"gpt-3.5-turbo\", temperature=0, api_key=OPENAI_API_KEY)\n",
    "        response_text = model(prompt)\n",
    "        print(f\"Personalized Response:\\n{response_text}\")\n",
    "\n",
    "predict_response(db, query_text, AUGMENT_PROMPT_TEMPLATE)\n"
   ]
  },
  {
   "cell_type": "code",
   "execution_count": null,
   "id": "952848dc",
   "metadata": {},
   "outputs": [],
   "source": []
  }
 ],
 "metadata": {
  "kernelspec": {
   "display_name": "Python 3 (ipykernel)",
   "language": "python",
   "name": "python3"
  },
  "language_info": {
   "codemirror_mode": {
    "name": "ipython",
    "version": 3
   },
   "file_extension": ".py",
   "mimetype": "text/x-python",
   "name": "python",
   "nbconvert_exporter": "python",
   "pygments_lexer": "ipython3",
   "version": "3.10.11"
  }
 },
 "nbformat": 4,
 "nbformat_minor": 5
}
